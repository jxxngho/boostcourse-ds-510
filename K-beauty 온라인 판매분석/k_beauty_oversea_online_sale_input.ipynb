{
  "cells": [
    {
      "cell_type": "markdown",
      "metadata": {
        "id": "view-in-github",
        "colab_type": "text"
      },
      "source": [
        "<a href=\"https://colab.research.google.com/github/jxxngho/BoostCourse_1/blob/master/K-beauty%20%EC%98%A8%EB%9D%BC%EC%9D%B8%20%ED%8C%90%EB%A7%A4%EB%B6%84%EC%84%9D/k_beauty_oversea_online_sale_input.ipynb\" target=\"_parent\"><img src=\"https://colab.research.google.com/assets/colab-badge.svg\" alt=\"Open In Colab\"/></a>"
      ]
    },
    {
      "cell_type": "markdown",
      "metadata": {
        "id": "Ji4A8V8PpkTx"
      },
      "source": [
        "## 국가(대륙)별/상품군별 온라인쇼핑 해외직접판매액\n",
        "* 국가통계포털 : http://kosis.kr/statHtml/statHtml.do?orgId=101&tblId=DT_1KE10081&vw_cd=MT_ZTITLE&list_id=JF&seqNo=&lang_mode=ko&language=kor&obj_var_id=&itm_id=&conn_path=MT_ZTITLE\n",
        "\n",
        "### K-Beauty는 성장하고 있을까? 해외 직접판매를 한다면 어느 국가로 판매전략을 세우면 좋을까?\n",
        "* K-Beauty란? [K-Beauty - Wikipedia](https://en.wikipedia.org/wiki/K-Beauty)\n",
        "* e : 추정치, p : 잠정치, - : 자료없음, ... : 미상자료, x : 비밀보호, ▽ : 시계열 불연 ( 단위 : 백만원 )"
      ]
    },
    {
      "cell_type": "markdown",
      "metadata": {
        "id": "C2qJ3EFQpkT5"
      },
      "source": [
        "## 필요 라이브러리 가져오기"
      ]
    },
    {
      "cell_type": "code",
      "execution_count": 2,
      "metadata": {
        "id": "4ZBgAOgypkT6"
      },
      "outputs": [],
      "source": [
        "import pandas as pd\n",
        "import seaborn as sns\n",
        "import matplotlib.pyplot as plt\n",
        "\n",
        "%matplotlib inline"
      ]
    },
    {
      "cell_type": "markdown",
      "metadata": {
        "id": "3Il8_nPlpkT7"
      },
      "source": [
        "## 한글폰트 설정\n",
        "* https://github.com/ychoi-kr/koreanize-matplotlib"
      ]
    },
    {
      "cell_type": "code",
      "execution_count": 1,
      "metadata": {
        "id": "Pj2uMxhcpkT7",
        "colab": {
          "base_uri": "https://localhost:8080/"
        },
        "outputId": "09be3c63-a081-4e4e-eda5-d75ea60e1845"
      },
      "outputs": [
        {
          "output_type": "stream",
          "name": "stdout",
          "text": [
            "Looking in indexes: https://pypi.org/simple, https://us-python.pkg.dev/colab-wheels/public/simple/\n",
            "Collecting koreanize-matplotlib\n",
            "  Downloading koreanize_matplotlib-0.1.1-py3-none-any.whl (7.9 MB)\n",
            "\u001b[2K     \u001b[90m━━━━━━━━━━━━━━━━━━━━━━━━━━━━━━━━━━━━━━━━\u001b[0m \u001b[32m7.9/7.9 MB\u001b[0m \u001b[31m42.7 MB/s\u001b[0m eta \u001b[36m0:00:00\u001b[0m\n",
            "\u001b[?25hRequirement already satisfied: matplotlib in /usr/local/lib/python3.10/dist-packages (from koreanize-matplotlib) (3.7.1)\n",
            "Requirement already satisfied: pyparsing>=2.3.1 in /usr/local/lib/python3.10/dist-packages (from matplotlib->koreanize-matplotlib) (3.0.9)\n",
            "Requirement already satisfied: cycler>=0.10 in /usr/local/lib/python3.10/dist-packages (from matplotlib->koreanize-matplotlib) (0.11.0)\n",
            "Requirement already satisfied: packaging>=20.0 in /usr/local/lib/python3.10/dist-packages (from matplotlib->koreanize-matplotlib) (23.1)\n",
            "Requirement already satisfied: contourpy>=1.0.1 in /usr/local/lib/python3.10/dist-packages (from matplotlib->koreanize-matplotlib) (1.0.7)\n",
            "Requirement already satisfied: fonttools>=4.22.0 in /usr/local/lib/python3.10/dist-packages (from matplotlib->koreanize-matplotlib) (4.39.3)\n",
            "Requirement already satisfied: python-dateutil>=2.7 in /usr/local/lib/python3.10/dist-packages (from matplotlib->koreanize-matplotlib) (2.8.2)\n",
            "Requirement already satisfied: numpy>=1.20 in /usr/local/lib/python3.10/dist-packages (from matplotlib->koreanize-matplotlib) (1.22.4)\n",
            "Requirement already satisfied: kiwisolver>=1.0.1 in /usr/local/lib/python3.10/dist-packages (from matplotlib->koreanize-matplotlib) (1.4.4)\n",
            "Requirement already satisfied: pillow>=6.2.0 in /usr/local/lib/python3.10/dist-packages (from matplotlib->koreanize-matplotlib) (8.4.0)\n",
            "Requirement already satisfied: six>=1.5 in /usr/local/lib/python3.10/dist-packages (from python-dateutil>=2.7->matplotlib->koreanize-matplotlib) (1.16.0)\n",
            "Installing collected packages: koreanize-matplotlib\n",
            "Successfully installed koreanize-matplotlib-0.1.1\n"
          ]
        }
      ],
      "source": [
        "# 한글폰트 사용을 위해 설치\n",
        "# 아래 모듈을 설치하고 불러오면 별도의 한글폰트 설정이 필요 없습니다.\n",
        "# colab 에서는 아래 모듈을 설치하고 불러와서 사용하세요. \n",
        "\n",
        "!pip install koreanize-matplotlib\n",
        "\n",
        "import koreanize_matplotlib"
      ]
    },
    {
      "cell_type": "code",
      "execution_count": 3,
      "metadata": {
        "id": "r9MJSyQ_pkT9"
      },
      "outputs": [],
      "source": [
        "# os 별로 폰트를 다르게 설정해 줍니다.\n",
        "    \n",
        "# 레티나 설정을 해주면 글씨가 좀 더 선명하게 보입니다.\n",
        "# 폰트의 주변이 흐릿하게 보이는 것을 방지합니다.\n",
        "%config InlineBackend.figure_format = 'retina'"
      ]
    },
    {
      "cell_type": "markdown",
      "metadata": {
        "id": "yteAS-GRpkT9"
      },
      "source": [
        "## 데이터 로드하기"
      ]
    },
    {
      "cell_type": "code",
      "execution_count": null,
      "metadata": {
        "id": "NN3WAgTwpkT-"
      },
      "outputs": [],
      "source": [
        "# %ls data"
      ]
    },
    {
      "cell_type": "code",
      "execution_count": null,
      "metadata": {
        "id": "5KWE1d61pkT_"
      },
      "outputs": [],
      "source": [
        "from glob import glob\n",
        "\n",
        "# glob(\"data/*.csv\")"
      ]
    },
    {
      "cell_type": "code",
      "execution_count": 7,
      "metadata": {
        "id": "NJTP6kKSpkUA",
        "colab": {
          "base_uri": "https://localhost:8080/"
        },
        "outputId": "f96f4916-e2e5-4077-eb62-bfeed4798cc6"
      },
      "outputs": [
        {
          "output_type": "execute_result",
          "data": {
            "text/plain": [
              "(323, 42)"
            ]
          },
          "metadata": {},
          "execution_count": 7
        }
      ],
      "source": [
        "df_raw = pd.read_csv(\"/content/지역별___상품군별_온라인쇼핑_해외직접구매액_20230506005902.csv\", \n",
        "                     encoding=\"cp949\")\n",
        "# df_raw = pd.read_csv(\"https://raw.githubusercontent.com/corazzon/boostcourse-ds-510/master/data/online_oversea_sale.csv.zip\", \n",
        "#                      encoding=\"cp949\")\n",
        "df_raw.shape"
      ]
    },
    {
      "cell_type": "code",
      "execution_count": 11,
      "metadata": {
        "scrolled": true,
        "id": "vnkvwo2FpkUA",
        "colab": {
          "base_uri": "https://localhost:8080/"
        },
        "outputId": "80658fda-1250-4ce0-9aec-f9b95260d7a5"
      },
      "outputs": [
        {
          "output_type": "execute_result",
          "data": {
            "text/plain": [
              "아시아     102\n",
              "유럽       85\n",
              "북미       51\n",
              "합계       17\n",
              "대양주      17\n",
              "중남미      17\n",
              "아프리카     17\n",
              "기타       17\n",
              "Name: 지역별(1), dtype: int64"
            ]
          },
          "metadata": {},
          "execution_count": 11
        }
      ],
      "source": [
        "# \"국가(대륙)별\" 데이터 빈도수 세기\n",
        "df_raw[\"지역별(1)\"].value_counts()\n",
        "# df_raw.columns"
      ]
    },
    {
      "cell_type": "code",
      "execution_count": 15,
      "metadata": {
        "id": "CmXB7BWRpkUB",
        "colab": {
          "base_uri": "https://localhost:8080/",
          "height": 1000
        },
        "outputId": "a8507e40-4dfe-4731-9a9b-abbdd69fbb4d"
      },
      "outputs": [
        {
          "output_type": "execute_result",
          "data": {
            "text/plain": [
              "    지역별(1) 지역별(2) 지역별(3)     상품군별(1) 상품군별(2) 2014.1/4 2014.2/4 2014.3/4  \\\n",
              "0       북미     소계     소계          합계      소계   378879   382844   375879   \n",
              "1       북미     소계     소계  컴퓨터 및 주변기기      소계     7857     7232     8767   \n",
              "2       북미     소계     소계  가전·전자·통신기기      소계    18924    18173    23375   \n",
              "3       북미     소계     소계  가전·전자·통신기기   가전·전자        -        -        -   \n",
              "4       북미     소계     소계  가전·전자·통신기기    통신기기        -        -        -   \n",
              "..     ...    ...    ...         ...     ...      ...      ...      ...   \n",
              "318     북미     소계     소계     아동·유아용품      소계       12        6        8   \n",
              "319     북미     소계     소계       음·식료품      소계       77      112      108   \n",
              "320     북미     소계     소계       농축수산물      소계        0        1        0   \n",
              "321     북미     소계     소계    생활·자동차용품      소계       16       15       16   \n",
              "322     북미     소계     소계         기 타      소계      222      150       85   \n",
              "\n",
              "    2014.4/4 2015.1/4  ... 2020.4/4 2021.1/4 2021.2/4 2021.3/4 2021.4/4  \\\n",
              "0     509530   422330  ...  1215815  1387318  1121238  1097486  1509169   \n",
              "1      12159    11401  ...    19129    19096    12646    12098    21662   \n",
              "2      42605    31703  ...   114376   131603    66291    56992   108149   \n",
              "3          -        -  ...        -        -        -        -        -   \n",
              "4          -        -  ...        -        -        -        -        -   \n",
              "..       ...      ...  ...      ...      ...      ...      ...      ...   \n",
              "318        6       26  ...       48       39       39       36       51   \n",
              "319      135      123  ...     3838     4469     4460     4138     5241   \n",
              "320        0        0  ...        6      189      247      159      194   \n",
              "321       19       23  ...      216      237      232      209      315   \n",
              "322      125      182  ...      563      499      511      855      589   \n",
              "\n",
              "    2022.1/4 2022.2/4 2022.3/4 2022.4/4 2023.1/4 p)  \n",
              "0    1371419  1302057  1306548  1343954     1598423  \n",
              "1      24298    18972    20429    24874       30801  \n",
              "2      77508    63235    72027    83723       96196  \n",
              "3          -        -        -        -       69356  \n",
              "4          -        -        -        -       26840  \n",
              "..       ...      ...      ...      ...         ...  \n",
              "318       42       39       29       50           -  \n",
              "319     5444     5702     5389     5376           -  \n",
              "320      165      100       93       55           -  \n",
              "321      324      540      316      268           -  \n",
              "322      493      763      633      429           -  \n",
              "\n",
              "[323 rows x 42 columns]"
            ],
            "text/html": [
              "\n",
              "  <div id=\"df-3c0cbcfb-fc07-4a91-ba77-cf3b9fd8188e\">\n",
              "    <div class=\"colab-df-container\">\n",
              "      <div>\n",
              "<style scoped>\n",
              "    .dataframe tbody tr th:only-of-type {\n",
              "        vertical-align: middle;\n",
              "    }\n",
              "\n",
              "    .dataframe tbody tr th {\n",
              "        vertical-align: top;\n",
              "    }\n",
              "\n",
              "    .dataframe thead th {\n",
              "        text-align: right;\n",
              "    }\n",
              "</style>\n",
              "<table border=\"1\" class=\"dataframe\">\n",
              "  <thead>\n",
              "    <tr style=\"text-align: right;\">\n",
              "      <th></th>\n",
              "      <th>지역별(1)</th>\n",
              "      <th>지역별(2)</th>\n",
              "      <th>지역별(3)</th>\n",
              "      <th>상품군별(1)</th>\n",
              "      <th>상품군별(2)</th>\n",
              "      <th>2014.1/4</th>\n",
              "      <th>2014.2/4</th>\n",
              "      <th>2014.3/4</th>\n",
              "      <th>2014.4/4</th>\n",
              "      <th>2015.1/4</th>\n",
              "      <th>...</th>\n",
              "      <th>2020.4/4</th>\n",
              "      <th>2021.1/4</th>\n",
              "      <th>2021.2/4</th>\n",
              "      <th>2021.3/4</th>\n",
              "      <th>2021.4/4</th>\n",
              "      <th>2022.1/4</th>\n",
              "      <th>2022.2/4</th>\n",
              "      <th>2022.3/4</th>\n",
              "      <th>2022.4/4</th>\n",
              "      <th>2023.1/4 p)</th>\n",
              "    </tr>\n",
              "  </thead>\n",
              "  <tbody>\n",
              "    <tr>\n",
              "      <th>0</th>\n",
              "      <td>북미</td>\n",
              "      <td>소계</td>\n",
              "      <td>소계</td>\n",
              "      <td>합계</td>\n",
              "      <td>소계</td>\n",
              "      <td>378879</td>\n",
              "      <td>382844</td>\n",
              "      <td>375879</td>\n",
              "      <td>509530</td>\n",
              "      <td>422330</td>\n",
              "      <td>...</td>\n",
              "      <td>1215815</td>\n",
              "      <td>1387318</td>\n",
              "      <td>1121238</td>\n",
              "      <td>1097486</td>\n",
              "      <td>1509169</td>\n",
              "      <td>1371419</td>\n",
              "      <td>1302057</td>\n",
              "      <td>1306548</td>\n",
              "      <td>1343954</td>\n",
              "      <td>1598423</td>\n",
              "    </tr>\n",
              "    <tr>\n",
              "      <th>1</th>\n",
              "      <td>북미</td>\n",
              "      <td>소계</td>\n",
              "      <td>소계</td>\n",
              "      <td>컴퓨터 및 주변기기</td>\n",
              "      <td>소계</td>\n",
              "      <td>7857</td>\n",
              "      <td>7232</td>\n",
              "      <td>8767</td>\n",
              "      <td>12159</td>\n",
              "      <td>11401</td>\n",
              "      <td>...</td>\n",
              "      <td>19129</td>\n",
              "      <td>19096</td>\n",
              "      <td>12646</td>\n",
              "      <td>12098</td>\n",
              "      <td>21662</td>\n",
              "      <td>24298</td>\n",
              "      <td>18972</td>\n",
              "      <td>20429</td>\n",
              "      <td>24874</td>\n",
              "      <td>30801</td>\n",
              "    </tr>\n",
              "    <tr>\n",
              "      <th>2</th>\n",
              "      <td>북미</td>\n",
              "      <td>소계</td>\n",
              "      <td>소계</td>\n",
              "      <td>가전·전자·통신기기</td>\n",
              "      <td>소계</td>\n",
              "      <td>18924</td>\n",
              "      <td>18173</td>\n",
              "      <td>23375</td>\n",
              "      <td>42605</td>\n",
              "      <td>31703</td>\n",
              "      <td>...</td>\n",
              "      <td>114376</td>\n",
              "      <td>131603</td>\n",
              "      <td>66291</td>\n",
              "      <td>56992</td>\n",
              "      <td>108149</td>\n",
              "      <td>77508</td>\n",
              "      <td>63235</td>\n",
              "      <td>72027</td>\n",
              "      <td>83723</td>\n",
              "      <td>96196</td>\n",
              "    </tr>\n",
              "    <tr>\n",
              "      <th>3</th>\n",
              "      <td>북미</td>\n",
              "      <td>소계</td>\n",
              "      <td>소계</td>\n",
              "      <td>가전·전자·통신기기</td>\n",
              "      <td>가전·전자</td>\n",
              "      <td>-</td>\n",
              "      <td>-</td>\n",
              "      <td>-</td>\n",
              "      <td>-</td>\n",
              "      <td>-</td>\n",
              "      <td>...</td>\n",
              "      <td>-</td>\n",
              "      <td>-</td>\n",
              "      <td>-</td>\n",
              "      <td>-</td>\n",
              "      <td>-</td>\n",
              "      <td>-</td>\n",
              "      <td>-</td>\n",
              "      <td>-</td>\n",
              "      <td>-</td>\n",
              "      <td>69356</td>\n",
              "    </tr>\n",
              "    <tr>\n",
              "      <th>4</th>\n",
              "      <td>북미</td>\n",
              "      <td>소계</td>\n",
              "      <td>소계</td>\n",
              "      <td>가전·전자·통신기기</td>\n",
              "      <td>통신기기</td>\n",
              "      <td>-</td>\n",
              "      <td>-</td>\n",
              "      <td>-</td>\n",
              "      <td>-</td>\n",
              "      <td>-</td>\n",
              "      <td>...</td>\n",
              "      <td>-</td>\n",
              "      <td>-</td>\n",
              "      <td>-</td>\n",
              "      <td>-</td>\n",
              "      <td>-</td>\n",
              "      <td>-</td>\n",
              "      <td>-</td>\n",
              "      <td>-</td>\n",
              "      <td>-</td>\n",
              "      <td>26840</td>\n",
              "    </tr>\n",
              "    <tr>\n",
              "      <th>...</th>\n",
              "      <td>...</td>\n",
              "      <td>...</td>\n",
              "      <td>...</td>\n",
              "      <td>...</td>\n",
              "      <td>...</td>\n",
              "      <td>...</td>\n",
              "      <td>...</td>\n",
              "      <td>...</td>\n",
              "      <td>...</td>\n",
              "      <td>...</td>\n",
              "      <td>...</td>\n",
              "      <td>...</td>\n",
              "      <td>...</td>\n",
              "      <td>...</td>\n",
              "      <td>...</td>\n",
              "      <td>...</td>\n",
              "      <td>...</td>\n",
              "      <td>...</td>\n",
              "      <td>...</td>\n",
              "      <td>...</td>\n",
              "      <td>...</td>\n",
              "    </tr>\n",
              "    <tr>\n",
              "      <th>318</th>\n",
              "      <td>북미</td>\n",
              "      <td>소계</td>\n",
              "      <td>소계</td>\n",
              "      <td>아동·유아용품</td>\n",
              "      <td>소계</td>\n",
              "      <td>12</td>\n",
              "      <td>6</td>\n",
              "      <td>8</td>\n",
              "      <td>6</td>\n",
              "      <td>26</td>\n",
              "      <td>...</td>\n",
              "      <td>48</td>\n",
              "      <td>39</td>\n",
              "      <td>39</td>\n",
              "      <td>36</td>\n",
              "      <td>51</td>\n",
              "      <td>42</td>\n",
              "      <td>39</td>\n",
              "      <td>29</td>\n",
              "      <td>50</td>\n",
              "      <td>-</td>\n",
              "    </tr>\n",
              "    <tr>\n",
              "      <th>319</th>\n",
              "      <td>북미</td>\n",
              "      <td>소계</td>\n",
              "      <td>소계</td>\n",
              "      <td>음·식료품</td>\n",
              "      <td>소계</td>\n",
              "      <td>77</td>\n",
              "      <td>112</td>\n",
              "      <td>108</td>\n",
              "      <td>135</td>\n",
              "      <td>123</td>\n",
              "      <td>...</td>\n",
              "      <td>3838</td>\n",
              "      <td>4469</td>\n",
              "      <td>4460</td>\n",
              "      <td>4138</td>\n",
              "      <td>5241</td>\n",
              "      <td>5444</td>\n",
              "      <td>5702</td>\n",
              "      <td>5389</td>\n",
              "      <td>5376</td>\n",
              "      <td>-</td>\n",
              "    </tr>\n",
              "    <tr>\n",
              "      <th>320</th>\n",
              "      <td>북미</td>\n",
              "      <td>소계</td>\n",
              "      <td>소계</td>\n",
              "      <td>농축수산물</td>\n",
              "      <td>소계</td>\n",
              "      <td>0</td>\n",
              "      <td>1</td>\n",
              "      <td>0</td>\n",
              "      <td>0</td>\n",
              "      <td>0</td>\n",
              "      <td>...</td>\n",
              "      <td>6</td>\n",
              "      <td>189</td>\n",
              "      <td>247</td>\n",
              "      <td>159</td>\n",
              "      <td>194</td>\n",
              "      <td>165</td>\n",
              "      <td>100</td>\n",
              "      <td>93</td>\n",
              "      <td>55</td>\n",
              "      <td>-</td>\n",
              "    </tr>\n",
              "    <tr>\n",
              "      <th>321</th>\n",
              "      <td>북미</td>\n",
              "      <td>소계</td>\n",
              "      <td>소계</td>\n",
              "      <td>생활·자동차용품</td>\n",
              "      <td>소계</td>\n",
              "      <td>16</td>\n",
              "      <td>15</td>\n",
              "      <td>16</td>\n",
              "      <td>19</td>\n",
              "      <td>23</td>\n",
              "      <td>...</td>\n",
              "      <td>216</td>\n",
              "      <td>237</td>\n",
              "      <td>232</td>\n",
              "      <td>209</td>\n",
              "      <td>315</td>\n",
              "      <td>324</td>\n",
              "      <td>540</td>\n",
              "      <td>316</td>\n",
              "      <td>268</td>\n",
              "      <td>-</td>\n",
              "    </tr>\n",
              "    <tr>\n",
              "      <th>322</th>\n",
              "      <td>북미</td>\n",
              "      <td>소계</td>\n",
              "      <td>소계</td>\n",
              "      <td>기 타</td>\n",
              "      <td>소계</td>\n",
              "      <td>222</td>\n",
              "      <td>150</td>\n",
              "      <td>85</td>\n",
              "      <td>125</td>\n",
              "      <td>182</td>\n",
              "      <td>...</td>\n",
              "      <td>563</td>\n",
              "      <td>499</td>\n",
              "      <td>511</td>\n",
              "      <td>855</td>\n",
              "      <td>589</td>\n",
              "      <td>493</td>\n",
              "      <td>763</td>\n",
              "      <td>633</td>\n",
              "      <td>429</td>\n",
              "      <td>-</td>\n",
              "    </tr>\n",
              "  </tbody>\n",
              "</table>\n",
              "<p>323 rows × 42 columns</p>\n",
              "</div>\n",
              "      <button class=\"colab-df-convert\" onclick=\"convertToInteractive('df-3c0cbcfb-fc07-4a91-ba77-cf3b9fd8188e')\"\n",
              "              title=\"Convert this dataframe to an interactive table.\"\n",
              "              style=\"display:none;\">\n",
              "        \n",
              "  <svg xmlns=\"http://www.w3.org/2000/svg\" height=\"24px\"viewBox=\"0 0 24 24\"\n",
              "       width=\"24px\">\n",
              "    <path d=\"M0 0h24v24H0V0z\" fill=\"none\"/>\n",
              "    <path d=\"M18.56 5.44l.94 2.06.94-2.06 2.06-.94-2.06-.94-.94-2.06-.94 2.06-2.06.94zm-11 1L8.5 8.5l.94-2.06 2.06-.94-2.06-.94L8.5 2.5l-.94 2.06-2.06.94zm10 10l.94 2.06.94-2.06 2.06-.94-2.06-.94-.94-2.06-.94 2.06-2.06.94z\"/><path d=\"M17.41 7.96l-1.37-1.37c-.4-.4-.92-.59-1.43-.59-.52 0-1.04.2-1.43.59L10.3 9.45l-7.72 7.72c-.78.78-.78 2.05 0 2.83L4 21.41c.39.39.9.59 1.41.59.51 0 1.02-.2 1.41-.59l7.78-7.78 2.81-2.81c.8-.78.8-2.07 0-2.86zM5.41 20L4 18.59l7.72-7.72 1.47 1.35L5.41 20z\"/>\n",
              "  </svg>\n",
              "      </button>\n",
              "      \n",
              "  <style>\n",
              "    .colab-df-container {\n",
              "      display:flex;\n",
              "      flex-wrap:wrap;\n",
              "      gap: 12px;\n",
              "    }\n",
              "\n",
              "    .colab-df-convert {\n",
              "      background-color: #E8F0FE;\n",
              "      border: none;\n",
              "      border-radius: 50%;\n",
              "      cursor: pointer;\n",
              "      display: none;\n",
              "      fill: #1967D2;\n",
              "      height: 32px;\n",
              "      padding: 0 0 0 0;\n",
              "      width: 32px;\n",
              "    }\n",
              "\n",
              "    .colab-df-convert:hover {\n",
              "      background-color: #E2EBFA;\n",
              "      box-shadow: 0px 1px 2px rgba(60, 64, 67, 0.3), 0px 1px 3px 1px rgba(60, 64, 67, 0.15);\n",
              "      fill: #174EA6;\n",
              "    }\n",
              "\n",
              "    [theme=dark] .colab-df-convert {\n",
              "      background-color: #3B4455;\n",
              "      fill: #D2E3FC;\n",
              "    }\n",
              "\n",
              "    [theme=dark] .colab-df-convert:hover {\n",
              "      background-color: #434B5C;\n",
              "      box-shadow: 0px 1px 3px 1px rgba(0, 0, 0, 0.15);\n",
              "      filter: drop-shadow(0px 1px 2px rgba(0, 0, 0, 0.3));\n",
              "      fill: #FFFFFF;\n",
              "    }\n",
              "  </style>\n",
              "\n",
              "      <script>\n",
              "        const buttonEl =\n",
              "          document.querySelector('#df-3c0cbcfb-fc07-4a91-ba77-cf3b9fd8188e button.colab-df-convert');\n",
              "        buttonEl.style.display =\n",
              "          google.colab.kernel.accessAllowed ? 'block' : 'none';\n",
              "\n",
              "        async function convertToInteractive(key) {\n",
              "          const element = document.querySelector('#df-3c0cbcfb-fc07-4a91-ba77-cf3b9fd8188e');\n",
              "          const dataTable =\n",
              "            await google.colab.kernel.invokeFunction('convertToInteractive',\n",
              "                                                     [key], {});\n",
              "          if (!dataTable) return;\n",
              "\n",
              "          const docLinkHtml = 'Like what you see? Visit the ' +\n",
              "            '<a target=\"_blank\" href=https://colab.research.google.com/notebooks/data_table.ipynb>data table notebook</a>'\n",
              "            + ' to learn more about interactive tables.';\n",
              "          element.innerHTML = '';\n",
              "          dataTable['output_type'] = 'display_data';\n",
              "          await google.colab.output.renderOutput(dataTable, element);\n",
              "          const docLink = document.createElement('div');\n",
              "          docLink.innerHTML = docLinkHtml;\n",
              "          element.appendChild(docLink);\n",
              "        }\n",
              "      </script>\n",
              "    </div>\n",
              "  </div>\n",
              "  "
            ]
          },
          "metadata": {},
          "execution_count": 15
        }
      ],
      "source": [
        "# 미국 데이터만 따로 보기\n",
        "df_raw[df_raw[\"지역별(1)\"]=='북미']"
      ]
    },
    {
      "cell_type": "markdown",
      "metadata": {
        "id": "7FQvKiLGpkUB"
      },
      "source": [
        "## 분석과 시각화를 위한 tidy data 만들기\n",
        "* https://pandas.pydata.org/Pandas_Cheat_Sheet.pdf"
      ]
    },
    {
      "cell_type": "code",
      "execution_count": 26,
      "metadata": {
        "id": "eYzuFNFcpkUC",
        "colab": {
          "base_uri": "https://localhost:8080/"
        },
        "outputId": "03798dde-ef74-45ce-f6f3-eee179ca201c"
      },
      "outputs": [
        {
          "output_type": "execute_result",
          "data": {
            "text/plain": [
              "Index(['지역별(1)', '상품군별(1)', '2014.1/4', '2014.2/4', '2014.3/4', '2014.4/4',\n",
              "       '2015.1/4', '2015.2/4', '2015.3/4', '2015.4/4', '2016.1/4', '2016.2/4',\n",
              "       '2016.3/4', '2016.4/4', '2017.1/4', '2017.2/4', '2017.3/4', '2017.4/4',\n",
              "       '2018.1/4', '2018.2/4', '2018.3/4', '2018.4/4', '2019.1/4', '2019.2/4',\n",
              "       '2019.3/4', '2019.4/4', '2020.1/4', '2020.2/4', '2020.3/4', '2020.4/4',\n",
              "       '2021.1/4', '2021.2/4', '2021.3/4', '2021.4/4', '2022.1/4', '2022.2/4',\n",
              "       '2022.3/4', '2022.4/4', '2023.1/4 p)'],\n",
              "      dtype='object')"
            ]
          },
          "metadata": {},
          "execution_count": 26
        }
      ],
      "source": [
        "df_raw=df_raw.drop([\"지역별(2)\",\"지역별(3)\",\"상품군별(2)\"],axis=1)\n",
        "df_raw.columns"
      ]
    },
    {
      "cell_type": "code",
      "source": [
        "df =df_raw.melt(id_vars=[\"지역별(1)\", \"상품군별(1)\"],var_name=\"기간\",value_name=\"백만원\")\n",
        "df.shape\n",
        "df.head()\n",
        "df.info()"
      ],
      "metadata": {
        "colab": {
          "base_uri": "https://localhost:8080/"
        },
        "id": "B5Cz3wl0sBNH",
        "outputId": "018eae2f-e544-4c3c-bd76-af013fdc3ae3"
      },
      "execution_count": 33,
      "outputs": [
        {
          "output_type": "stream",
          "name": "stdout",
          "text": [
            "<class 'pandas.core.frame.DataFrame'>\n",
            "RangeIndex: 11951 entries, 0 to 11950\n",
            "Data columns (total 4 columns):\n",
            " #   Column   Non-Null Count  Dtype \n",
            "---  ------   --------------  ----- \n",
            " 0   지역별(1)   11951 non-null  object\n",
            " 1   상품군별(1)  11951 non-null  object\n",
            " 2   기간       11951 non-null  object\n",
            " 3   백만원      11650 non-null  object\n",
            "dtypes: object(4)\n",
            "memory usage: 373.6+ KB\n"
          ]
        }
      ]
    },
    {
      "cell_type": "markdown",
      "metadata": {
        "id": "-Zyjx5RfpkUC"
      },
      "source": [
        "## 데이터 전처리\n",
        "### 기간에서 연도를 분리하기"
      ]
    },
    {
      "cell_type": "code",
      "execution_count": 40,
      "metadata": {
        "id": "4KGMmTxYpkUC",
        "colab": {
          "base_uri": "https://localhost:8080/",
          "height": 206
        },
        "outputId": "aff5884e-ee7d-4612-bed8-f29765a88e86"
      },
      "outputs": [
        {
          "output_type": "execute_result",
          "data": {
            "text/plain": [
              "  지역별(1)     상품군별(1)        기간     백만원    연도\n",
              "0     북미          합계  2014.1/4  378879  2014\n",
              "1     북미  컴퓨터 및 주변기기  2014.1/4    7857  2014\n",
              "2     북미  가전·전자·통신기기  2014.1/4   18924  2014\n",
              "3     북미  가전·전자·통신기기  2014.1/4       -  2014\n",
              "4     북미  가전·전자·통신기기  2014.1/4       -  2014"
            ],
            "text/html": [
              "\n",
              "  <div id=\"df-08e95da0-5ca4-4dc8-839d-0f0a49c76433\">\n",
              "    <div class=\"colab-df-container\">\n",
              "      <div>\n",
              "<style scoped>\n",
              "    .dataframe tbody tr th:only-of-type {\n",
              "        vertical-align: middle;\n",
              "    }\n",
              "\n",
              "    .dataframe tbody tr th {\n",
              "        vertical-align: top;\n",
              "    }\n",
              "\n",
              "    .dataframe thead th {\n",
              "        text-align: right;\n",
              "    }\n",
              "</style>\n",
              "<table border=\"1\" class=\"dataframe\">\n",
              "  <thead>\n",
              "    <tr style=\"text-align: right;\">\n",
              "      <th></th>\n",
              "      <th>지역별(1)</th>\n",
              "      <th>상품군별(1)</th>\n",
              "      <th>기간</th>\n",
              "      <th>백만원</th>\n",
              "      <th>연도</th>\n",
              "    </tr>\n",
              "  </thead>\n",
              "  <tbody>\n",
              "    <tr>\n",
              "      <th>0</th>\n",
              "      <td>북미</td>\n",
              "      <td>합계</td>\n",
              "      <td>2014.1/4</td>\n",
              "      <td>378879</td>\n",
              "      <td>2014</td>\n",
              "    </tr>\n",
              "    <tr>\n",
              "      <th>1</th>\n",
              "      <td>북미</td>\n",
              "      <td>컴퓨터 및 주변기기</td>\n",
              "      <td>2014.1/4</td>\n",
              "      <td>7857</td>\n",
              "      <td>2014</td>\n",
              "    </tr>\n",
              "    <tr>\n",
              "      <th>2</th>\n",
              "      <td>북미</td>\n",
              "      <td>가전·전자·통신기기</td>\n",
              "      <td>2014.1/4</td>\n",
              "      <td>18924</td>\n",
              "      <td>2014</td>\n",
              "    </tr>\n",
              "    <tr>\n",
              "      <th>3</th>\n",
              "      <td>북미</td>\n",
              "      <td>가전·전자·통신기기</td>\n",
              "      <td>2014.1/4</td>\n",
              "      <td>-</td>\n",
              "      <td>2014</td>\n",
              "    </tr>\n",
              "    <tr>\n",
              "      <th>4</th>\n",
              "      <td>북미</td>\n",
              "      <td>가전·전자·통신기기</td>\n",
              "      <td>2014.1/4</td>\n",
              "      <td>-</td>\n",
              "      <td>2014</td>\n",
              "    </tr>\n",
              "  </tbody>\n",
              "</table>\n",
              "</div>\n",
              "      <button class=\"colab-df-convert\" onclick=\"convertToInteractive('df-08e95da0-5ca4-4dc8-839d-0f0a49c76433')\"\n",
              "              title=\"Convert this dataframe to an interactive table.\"\n",
              "              style=\"display:none;\">\n",
              "        \n",
              "  <svg xmlns=\"http://www.w3.org/2000/svg\" height=\"24px\"viewBox=\"0 0 24 24\"\n",
              "       width=\"24px\">\n",
              "    <path d=\"M0 0h24v24H0V0z\" fill=\"none\"/>\n",
              "    <path d=\"M18.56 5.44l.94 2.06.94-2.06 2.06-.94-2.06-.94-.94-2.06-.94 2.06-2.06.94zm-11 1L8.5 8.5l.94-2.06 2.06-.94-2.06-.94L8.5 2.5l-.94 2.06-2.06.94zm10 10l.94 2.06.94-2.06 2.06-.94-2.06-.94-.94-2.06-.94 2.06-2.06.94z\"/><path d=\"M17.41 7.96l-1.37-1.37c-.4-.4-.92-.59-1.43-.59-.52 0-1.04.2-1.43.59L10.3 9.45l-7.72 7.72c-.78.78-.78 2.05 0 2.83L4 21.41c.39.39.9.59 1.41.59.51 0 1.02-.2 1.41-.59l7.78-7.78 2.81-2.81c.8-.78.8-2.07 0-2.86zM5.41 20L4 18.59l7.72-7.72 1.47 1.35L5.41 20z\"/>\n",
              "  </svg>\n",
              "      </button>\n",
              "      \n",
              "  <style>\n",
              "    .colab-df-container {\n",
              "      display:flex;\n",
              "      flex-wrap:wrap;\n",
              "      gap: 12px;\n",
              "    }\n",
              "\n",
              "    .colab-df-convert {\n",
              "      background-color: #E8F0FE;\n",
              "      border: none;\n",
              "      border-radius: 50%;\n",
              "      cursor: pointer;\n",
              "      display: none;\n",
              "      fill: #1967D2;\n",
              "      height: 32px;\n",
              "      padding: 0 0 0 0;\n",
              "      width: 32px;\n",
              "    }\n",
              "\n",
              "    .colab-df-convert:hover {\n",
              "      background-color: #E2EBFA;\n",
              "      box-shadow: 0px 1px 2px rgba(60, 64, 67, 0.3), 0px 1px 3px 1px rgba(60, 64, 67, 0.15);\n",
              "      fill: #174EA6;\n",
              "    }\n",
              "\n",
              "    [theme=dark] .colab-df-convert {\n",
              "      background-color: #3B4455;\n",
              "      fill: #D2E3FC;\n",
              "    }\n",
              "\n",
              "    [theme=dark] .colab-df-convert:hover {\n",
              "      background-color: #434B5C;\n",
              "      box-shadow: 0px 1px 3px 1px rgba(0, 0, 0, 0.15);\n",
              "      filter: drop-shadow(0px 1px 2px rgba(0, 0, 0, 0.3));\n",
              "      fill: #FFFFFF;\n",
              "    }\n",
              "  </style>\n",
              "\n",
              "      <script>\n",
              "        const buttonEl =\n",
              "          document.querySelector('#df-08e95da0-5ca4-4dc8-839d-0f0a49c76433 button.colab-df-convert');\n",
              "        buttonEl.style.display =\n",
              "          google.colab.kernel.accessAllowed ? 'block' : 'none';\n",
              "\n",
              "        async function convertToInteractive(key) {\n",
              "          const element = document.querySelector('#df-08e95da0-5ca4-4dc8-839d-0f0a49c76433');\n",
              "          const dataTable =\n",
              "            await google.colab.kernel.invokeFunction('convertToInteractive',\n",
              "                                                     [key], {});\n",
              "          if (!dataTable) return;\n",
              "\n",
              "          const docLinkHtml = 'Like what you see? Visit the ' +\n",
              "            '<a target=\"_blank\" href=https://colab.research.google.com/notebooks/data_table.ipynb>data table notebook</a>'\n",
              "            + ' to learn more about interactive tables.';\n",
              "          element.innerHTML = '';\n",
              "          dataTable['output_type'] = 'display_data';\n",
              "          await google.colab.output.renderOutput(dataTable, element);\n",
              "          const docLink = document.createElement('div');\n",
              "          docLink.innerHTML = docLinkHtml;\n",
              "          element.appendChild(docLink);\n",
              "        }\n",
              "      </script>\n",
              "    </div>\n",
              "  </div>\n",
              "  "
            ]
          },
          "metadata": {},
          "execution_count": 40
        }
      ],
      "source": [
        "df[\"연도\"]=df[\"기간\"].map(lambda x : int(x.split('.')[0]))\n",
        "df.head()"
      ]
    },
    {
      "cell_type": "code",
      "execution_count": 46,
      "metadata": {
        "id": "15bVwwYypkUD",
        "colab": {
          "base_uri": "https://localhost:8080/",
          "height": 206
        },
        "outputId": "837beb74-5e1f-4b24-861c-fc4c0a8e78d4"
      },
      "outputs": [
        {
          "output_type": "execute_result",
          "data": {
            "text/plain": [
              "  지역별(1)     상품군별(1)        기간     백만원    연도  분기\n",
              "0     북미          합계  2014.1/4  378879  2014   1\n",
              "1     북미  컴퓨터 및 주변기기  2014.1/4    7857  2014   1\n",
              "2     북미  가전·전자·통신기기  2014.1/4   18924  2014   1\n",
              "3     북미  가전·전자·통신기기  2014.1/4       -  2014   1\n",
              "4     북미  가전·전자·통신기기  2014.1/4       -  2014   1"
            ],
            "text/html": [
              "\n",
              "  <div id=\"df-dabd30c3-0324-4d3f-a358-dd368ce87ec3\">\n",
              "    <div class=\"colab-df-container\">\n",
              "      <div>\n",
              "<style scoped>\n",
              "    .dataframe tbody tr th:only-of-type {\n",
              "        vertical-align: middle;\n",
              "    }\n",
              "\n",
              "    .dataframe tbody tr th {\n",
              "        vertical-align: top;\n",
              "    }\n",
              "\n",
              "    .dataframe thead th {\n",
              "        text-align: right;\n",
              "    }\n",
              "</style>\n",
              "<table border=\"1\" class=\"dataframe\">\n",
              "  <thead>\n",
              "    <tr style=\"text-align: right;\">\n",
              "      <th></th>\n",
              "      <th>지역별(1)</th>\n",
              "      <th>상품군별(1)</th>\n",
              "      <th>기간</th>\n",
              "      <th>백만원</th>\n",
              "      <th>연도</th>\n",
              "      <th>분기</th>\n",
              "    </tr>\n",
              "  </thead>\n",
              "  <tbody>\n",
              "    <tr>\n",
              "      <th>0</th>\n",
              "      <td>북미</td>\n",
              "      <td>합계</td>\n",
              "      <td>2014.1/4</td>\n",
              "      <td>378879</td>\n",
              "      <td>2014</td>\n",
              "      <td>1</td>\n",
              "    </tr>\n",
              "    <tr>\n",
              "      <th>1</th>\n",
              "      <td>북미</td>\n",
              "      <td>컴퓨터 및 주변기기</td>\n",
              "      <td>2014.1/4</td>\n",
              "      <td>7857</td>\n",
              "      <td>2014</td>\n",
              "      <td>1</td>\n",
              "    </tr>\n",
              "    <tr>\n",
              "      <th>2</th>\n",
              "      <td>북미</td>\n",
              "      <td>가전·전자·통신기기</td>\n",
              "      <td>2014.1/4</td>\n",
              "      <td>18924</td>\n",
              "      <td>2014</td>\n",
              "      <td>1</td>\n",
              "    </tr>\n",
              "    <tr>\n",
              "      <th>3</th>\n",
              "      <td>북미</td>\n",
              "      <td>가전·전자·통신기기</td>\n",
              "      <td>2014.1/4</td>\n",
              "      <td>-</td>\n",
              "      <td>2014</td>\n",
              "      <td>1</td>\n",
              "    </tr>\n",
              "    <tr>\n",
              "      <th>4</th>\n",
              "      <td>북미</td>\n",
              "      <td>가전·전자·통신기기</td>\n",
              "      <td>2014.1/4</td>\n",
              "      <td>-</td>\n",
              "      <td>2014</td>\n",
              "      <td>1</td>\n",
              "    </tr>\n",
              "  </tbody>\n",
              "</table>\n",
              "</div>\n",
              "      <button class=\"colab-df-convert\" onclick=\"convertToInteractive('df-dabd30c3-0324-4d3f-a358-dd368ce87ec3')\"\n",
              "              title=\"Convert this dataframe to an interactive table.\"\n",
              "              style=\"display:none;\">\n",
              "        \n",
              "  <svg xmlns=\"http://www.w3.org/2000/svg\" height=\"24px\"viewBox=\"0 0 24 24\"\n",
              "       width=\"24px\">\n",
              "    <path d=\"M0 0h24v24H0V0z\" fill=\"none\"/>\n",
              "    <path d=\"M18.56 5.44l.94 2.06.94-2.06 2.06-.94-2.06-.94-.94-2.06-.94 2.06-2.06.94zm-11 1L8.5 8.5l.94-2.06 2.06-.94-2.06-.94L8.5 2.5l-.94 2.06-2.06.94zm10 10l.94 2.06.94-2.06 2.06-.94-2.06-.94-.94-2.06-.94 2.06-2.06.94z\"/><path d=\"M17.41 7.96l-1.37-1.37c-.4-.4-.92-.59-1.43-.59-.52 0-1.04.2-1.43.59L10.3 9.45l-7.72 7.72c-.78.78-.78 2.05 0 2.83L4 21.41c.39.39.9.59 1.41.59.51 0 1.02-.2 1.41-.59l7.78-7.78 2.81-2.81c.8-.78.8-2.07 0-2.86zM5.41 20L4 18.59l7.72-7.72 1.47 1.35L5.41 20z\"/>\n",
              "  </svg>\n",
              "      </button>\n",
              "      \n",
              "  <style>\n",
              "    .colab-df-container {\n",
              "      display:flex;\n",
              "      flex-wrap:wrap;\n",
              "      gap: 12px;\n",
              "    }\n",
              "\n",
              "    .colab-df-convert {\n",
              "      background-color: #E8F0FE;\n",
              "      border: none;\n",
              "      border-radius: 50%;\n",
              "      cursor: pointer;\n",
              "      display: none;\n",
              "      fill: #1967D2;\n",
              "      height: 32px;\n",
              "      padding: 0 0 0 0;\n",
              "      width: 32px;\n",
              "    }\n",
              "\n",
              "    .colab-df-convert:hover {\n",
              "      background-color: #E2EBFA;\n",
              "      box-shadow: 0px 1px 2px rgba(60, 64, 67, 0.3), 0px 1px 3px 1px rgba(60, 64, 67, 0.15);\n",
              "      fill: #174EA6;\n",
              "    }\n",
              "\n",
              "    [theme=dark] .colab-df-convert {\n",
              "      background-color: #3B4455;\n",
              "      fill: #D2E3FC;\n",
              "    }\n",
              "\n",
              "    [theme=dark] .colab-df-convert:hover {\n",
              "      background-color: #434B5C;\n",
              "      box-shadow: 0px 1px 3px 1px rgba(0, 0, 0, 0.15);\n",
              "      filter: drop-shadow(0px 1px 2px rgba(0, 0, 0, 0.3));\n",
              "      fill: #FFFFFF;\n",
              "    }\n",
              "  </style>\n",
              "\n",
              "      <script>\n",
              "        const buttonEl =\n",
              "          document.querySelector('#df-dabd30c3-0324-4d3f-a358-dd368ce87ec3 button.colab-df-convert');\n",
              "        buttonEl.style.display =\n",
              "          google.colab.kernel.accessAllowed ? 'block' : 'none';\n",
              "\n",
              "        async function convertToInteractive(key) {\n",
              "          const element = document.querySelector('#df-dabd30c3-0324-4d3f-a358-dd368ce87ec3');\n",
              "          const dataTable =\n",
              "            await google.colab.kernel.invokeFunction('convertToInteractive',\n",
              "                                                     [key], {});\n",
              "          if (!dataTable) return;\n",
              "\n",
              "          const docLinkHtml = 'Like what you see? Visit the ' +\n",
              "            '<a target=\"_blank\" href=https://colab.research.google.com/notebooks/data_table.ipynb>data table notebook</a>'\n",
              "            + ' to learn more about interactive tables.';\n",
              "          element.innerHTML = '';\n",
              "          dataTable['output_type'] = 'display_data';\n",
              "          await google.colab.output.renderOutput(dataTable, element);\n",
              "          const docLink = document.createElement('div');\n",
              "          docLink.innerHTML = docLinkHtml;\n",
              "          element.appendChild(docLink);\n",
              "        }\n",
              "      </script>\n",
              "    </div>\n",
              "  </div>\n",
              "  "
            ]
          },
          "metadata": {},
          "execution_count": 46
        }
      ],
      "source": [
        "df[\"분기\"]=df[\"기간\"].map(lambda x : int(x.split('.')[1].split(\"/\")[0]))\n",
        "df.head()\n",
        "# df.info()"
      ]
    },
    {
      "cell_type": "markdown",
      "metadata": {
        "id": "yXhGYOLlpkUE"
      },
      "source": [
        "### 금액을 수치데이터로 표현하기 위해 데이터 타입 변경하기"
      ]
    },
    {
      "cell_type": "code",
      "source": [
        "import numpy as np\n",
        "df[\"백만원\"] = df[\"백만원\"].replace(\"-\", np.nan).astype(float)\n",
        "df.head()"
      ],
      "metadata": {
        "colab": {
          "base_uri": "https://localhost:8080/",
          "height": 206
        },
        "id": "xo5B_uzEv3fc",
        "outputId": "09299400-b60e-4d7d-b09c-9df95eee66f1"
      },
      "execution_count": 52,
      "outputs": [
        {
          "output_type": "execute_result",
          "data": {
            "text/plain": [
              "  지역별(1)     상품군별(1)        기간       백만원    연도  분기\n",
              "0     북미          합계  2014.1/4  378879.0  2014   1\n",
              "1     북미  컴퓨터 및 주변기기  2014.1/4    7857.0  2014   1\n",
              "2     북미  가전·전자·통신기기  2014.1/4   18924.0  2014   1\n",
              "3     북미  가전·전자·통신기기  2014.1/4       NaN  2014   1\n",
              "4     북미  가전·전자·통신기기  2014.1/4       NaN  2014   1"
            ],
            "text/html": [
              "\n",
              "  <div id=\"df-7873768e-9370-49e2-aa01-ca7260869013\">\n",
              "    <div class=\"colab-df-container\">\n",
              "      <div>\n",
              "<style scoped>\n",
              "    .dataframe tbody tr th:only-of-type {\n",
              "        vertical-align: middle;\n",
              "    }\n",
              "\n",
              "    .dataframe tbody tr th {\n",
              "        vertical-align: top;\n",
              "    }\n",
              "\n",
              "    .dataframe thead th {\n",
              "        text-align: right;\n",
              "    }\n",
              "</style>\n",
              "<table border=\"1\" class=\"dataframe\">\n",
              "  <thead>\n",
              "    <tr style=\"text-align: right;\">\n",
              "      <th></th>\n",
              "      <th>지역별(1)</th>\n",
              "      <th>상품군별(1)</th>\n",
              "      <th>기간</th>\n",
              "      <th>백만원</th>\n",
              "      <th>연도</th>\n",
              "      <th>분기</th>\n",
              "    </tr>\n",
              "  </thead>\n",
              "  <tbody>\n",
              "    <tr>\n",
              "      <th>0</th>\n",
              "      <td>북미</td>\n",
              "      <td>합계</td>\n",
              "      <td>2014.1/4</td>\n",
              "      <td>378879.0</td>\n",
              "      <td>2014</td>\n",
              "      <td>1</td>\n",
              "    </tr>\n",
              "    <tr>\n",
              "      <th>1</th>\n",
              "      <td>북미</td>\n",
              "      <td>컴퓨터 및 주변기기</td>\n",
              "      <td>2014.1/4</td>\n",
              "      <td>7857.0</td>\n",
              "      <td>2014</td>\n",
              "      <td>1</td>\n",
              "    </tr>\n",
              "    <tr>\n",
              "      <th>2</th>\n",
              "      <td>북미</td>\n",
              "      <td>가전·전자·통신기기</td>\n",
              "      <td>2014.1/4</td>\n",
              "      <td>18924.0</td>\n",
              "      <td>2014</td>\n",
              "      <td>1</td>\n",
              "    </tr>\n",
              "    <tr>\n",
              "      <th>3</th>\n",
              "      <td>북미</td>\n",
              "      <td>가전·전자·통신기기</td>\n",
              "      <td>2014.1/4</td>\n",
              "      <td>NaN</td>\n",
              "      <td>2014</td>\n",
              "      <td>1</td>\n",
              "    </tr>\n",
              "    <tr>\n",
              "      <th>4</th>\n",
              "      <td>북미</td>\n",
              "      <td>가전·전자·통신기기</td>\n",
              "      <td>2014.1/4</td>\n",
              "      <td>NaN</td>\n",
              "      <td>2014</td>\n",
              "      <td>1</td>\n",
              "    </tr>\n",
              "  </tbody>\n",
              "</table>\n",
              "</div>\n",
              "      <button class=\"colab-df-convert\" onclick=\"convertToInteractive('df-7873768e-9370-49e2-aa01-ca7260869013')\"\n",
              "              title=\"Convert this dataframe to an interactive table.\"\n",
              "              style=\"display:none;\">\n",
              "        \n",
              "  <svg xmlns=\"http://www.w3.org/2000/svg\" height=\"24px\"viewBox=\"0 0 24 24\"\n",
              "       width=\"24px\">\n",
              "    <path d=\"M0 0h24v24H0V0z\" fill=\"none\"/>\n",
              "    <path d=\"M18.56 5.44l.94 2.06.94-2.06 2.06-.94-2.06-.94-.94-2.06-.94 2.06-2.06.94zm-11 1L8.5 8.5l.94-2.06 2.06-.94-2.06-.94L8.5 2.5l-.94 2.06-2.06.94zm10 10l.94 2.06.94-2.06 2.06-.94-2.06-.94-.94-2.06-.94 2.06-2.06.94z\"/><path d=\"M17.41 7.96l-1.37-1.37c-.4-.4-.92-.59-1.43-.59-.52 0-1.04.2-1.43.59L10.3 9.45l-7.72 7.72c-.78.78-.78 2.05 0 2.83L4 21.41c.39.39.9.59 1.41.59.51 0 1.02-.2 1.41-.59l7.78-7.78 2.81-2.81c.8-.78.8-2.07 0-2.86zM5.41 20L4 18.59l7.72-7.72 1.47 1.35L5.41 20z\"/>\n",
              "  </svg>\n",
              "      </button>\n",
              "      \n",
              "  <style>\n",
              "    .colab-df-container {\n",
              "      display:flex;\n",
              "      flex-wrap:wrap;\n",
              "      gap: 12px;\n",
              "    }\n",
              "\n",
              "    .colab-df-convert {\n",
              "      background-color: #E8F0FE;\n",
              "      border: none;\n",
              "      border-radius: 50%;\n",
              "      cursor: pointer;\n",
              "      display: none;\n",
              "      fill: #1967D2;\n",
              "      height: 32px;\n",
              "      padding: 0 0 0 0;\n",
              "      width: 32px;\n",
              "    }\n",
              "\n",
              "    .colab-df-convert:hover {\n",
              "      background-color: #E2EBFA;\n",
              "      box-shadow: 0px 1px 2px rgba(60, 64, 67, 0.3), 0px 1px 3px 1px rgba(60, 64, 67, 0.15);\n",
              "      fill: #174EA6;\n",
              "    }\n",
              "\n",
              "    [theme=dark] .colab-df-convert {\n",
              "      background-color: #3B4455;\n",
              "      fill: #D2E3FC;\n",
              "    }\n",
              "\n",
              "    [theme=dark] .colab-df-convert:hover {\n",
              "      background-color: #434B5C;\n",
              "      box-shadow: 0px 1px 3px 1px rgba(0, 0, 0, 0.15);\n",
              "      filter: drop-shadow(0px 1px 2px rgba(0, 0, 0, 0.3));\n",
              "      fill: #FFFFFF;\n",
              "    }\n",
              "  </style>\n",
              "\n",
              "      <script>\n",
              "        const buttonEl =\n",
              "          document.querySelector('#df-7873768e-9370-49e2-aa01-ca7260869013 button.colab-df-convert');\n",
              "        buttonEl.style.display =\n",
              "          google.colab.kernel.accessAllowed ? 'block' : 'none';\n",
              "\n",
              "        async function convertToInteractive(key) {\n",
              "          const element = document.querySelector('#df-7873768e-9370-49e2-aa01-ca7260869013');\n",
              "          const dataTable =\n",
              "            await google.colab.kernel.invokeFunction('convertToInteractive',\n",
              "                                                     [key], {});\n",
              "          if (!dataTable) return;\n",
              "\n",
              "          const docLinkHtml = 'Like what you see? Visit the ' +\n",
              "            '<a target=\"_blank\" href=https://colab.research.google.com/notebooks/data_table.ipynb>data table notebook</a>'\n",
              "            + ' to learn more about interactive tables.';\n",
              "          element.innerHTML = '';\n",
              "          dataTable['output_type'] = 'display_data';\n",
              "          await google.colab.output.renderOutput(dataTable, element);\n",
              "          const docLink = document.createElement('div');\n",
              "          docLink.innerHTML = docLinkHtml;\n",
              "          element.appendChild(docLink);\n",
              "        }\n",
              "      </script>\n",
              "    </div>\n",
              "  </div>\n",
              "  "
            ]
          },
          "metadata": {},
          "execution_count": 52
        }
      ]
    },
    {
      "cell_type": "code",
      "execution_count": 53,
      "metadata": {
        "scrolled": true,
        "id": "VgLrCP8OpkUE",
        "colab": {
          "base_uri": "https://localhost:8080/",
          "height": 424
        },
        "outputId": "4075ff86-2400-41ef-c87d-a0ba31a8ed99"
      },
      "outputs": [
        {
          "output_type": "execute_result",
          "data": {
            "text/plain": [
              "      지역별(1)     상품군별(1)           기간       백만원    연도  분기\n",
              "0         북미          합계     2014.1/4  378879.0  2014   1\n",
              "1         북미  컴퓨터 및 주변기기     2014.1/4    7857.0  2014   1\n",
              "2         북미  가전·전자·통신기기     2014.1/4   18924.0  2014   1\n",
              "3         북미  가전·전자·통신기기     2014.1/4       NaN  2014   1\n",
              "4         북미  가전·전자·통신기기     2014.1/4       NaN  2014   1\n",
              "...      ...         ...          ...       ...   ...  ..\n",
              "11946     북미     아동·유아용품  2023.1/4 p)       NaN  2023   1\n",
              "11947     북미       음·식료품  2023.1/4 p)       NaN  2023   1\n",
              "11948     북미       농축수산물  2023.1/4 p)       NaN  2023   1\n",
              "11949     북미    생활·자동차용품  2023.1/4 p)       NaN  2023   1\n",
              "11950     북미         기 타  2023.1/4 p)       NaN  2023   1\n",
              "\n",
              "[11951 rows x 6 columns]"
            ],
            "text/html": [
              "\n",
              "  <div id=\"df-3752a66b-02f0-4caf-91c0-78da06e53d2b\">\n",
              "    <div class=\"colab-df-container\">\n",
              "      <div>\n",
              "<style scoped>\n",
              "    .dataframe tbody tr th:only-of-type {\n",
              "        vertical-align: middle;\n",
              "    }\n",
              "\n",
              "    .dataframe tbody tr th {\n",
              "        vertical-align: top;\n",
              "    }\n",
              "\n",
              "    .dataframe thead th {\n",
              "        text-align: right;\n",
              "    }\n",
              "</style>\n",
              "<table border=\"1\" class=\"dataframe\">\n",
              "  <thead>\n",
              "    <tr style=\"text-align: right;\">\n",
              "      <th></th>\n",
              "      <th>지역별(1)</th>\n",
              "      <th>상품군별(1)</th>\n",
              "      <th>기간</th>\n",
              "      <th>백만원</th>\n",
              "      <th>연도</th>\n",
              "      <th>분기</th>\n",
              "    </tr>\n",
              "  </thead>\n",
              "  <tbody>\n",
              "    <tr>\n",
              "      <th>0</th>\n",
              "      <td>북미</td>\n",
              "      <td>합계</td>\n",
              "      <td>2014.1/4</td>\n",
              "      <td>378879.0</td>\n",
              "      <td>2014</td>\n",
              "      <td>1</td>\n",
              "    </tr>\n",
              "    <tr>\n",
              "      <th>1</th>\n",
              "      <td>북미</td>\n",
              "      <td>컴퓨터 및 주변기기</td>\n",
              "      <td>2014.1/4</td>\n",
              "      <td>7857.0</td>\n",
              "      <td>2014</td>\n",
              "      <td>1</td>\n",
              "    </tr>\n",
              "    <tr>\n",
              "      <th>2</th>\n",
              "      <td>북미</td>\n",
              "      <td>가전·전자·통신기기</td>\n",
              "      <td>2014.1/4</td>\n",
              "      <td>18924.0</td>\n",
              "      <td>2014</td>\n",
              "      <td>1</td>\n",
              "    </tr>\n",
              "    <tr>\n",
              "      <th>3</th>\n",
              "      <td>북미</td>\n",
              "      <td>가전·전자·통신기기</td>\n",
              "      <td>2014.1/4</td>\n",
              "      <td>NaN</td>\n",
              "      <td>2014</td>\n",
              "      <td>1</td>\n",
              "    </tr>\n",
              "    <tr>\n",
              "      <th>4</th>\n",
              "      <td>북미</td>\n",
              "      <td>가전·전자·통신기기</td>\n",
              "      <td>2014.1/4</td>\n",
              "      <td>NaN</td>\n",
              "      <td>2014</td>\n",
              "      <td>1</td>\n",
              "    </tr>\n",
              "    <tr>\n",
              "      <th>...</th>\n",
              "      <td>...</td>\n",
              "      <td>...</td>\n",
              "      <td>...</td>\n",
              "      <td>...</td>\n",
              "      <td>...</td>\n",
              "      <td>...</td>\n",
              "    </tr>\n",
              "    <tr>\n",
              "      <th>11946</th>\n",
              "      <td>북미</td>\n",
              "      <td>아동·유아용품</td>\n",
              "      <td>2023.1/4 p)</td>\n",
              "      <td>NaN</td>\n",
              "      <td>2023</td>\n",
              "      <td>1</td>\n",
              "    </tr>\n",
              "    <tr>\n",
              "      <th>11947</th>\n",
              "      <td>북미</td>\n",
              "      <td>음·식료품</td>\n",
              "      <td>2023.1/4 p)</td>\n",
              "      <td>NaN</td>\n",
              "      <td>2023</td>\n",
              "      <td>1</td>\n",
              "    </tr>\n",
              "    <tr>\n",
              "      <th>11948</th>\n",
              "      <td>북미</td>\n",
              "      <td>농축수산물</td>\n",
              "      <td>2023.1/4 p)</td>\n",
              "      <td>NaN</td>\n",
              "      <td>2023</td>\n",
              "      <td>1</td>\n",
              "    </tr>\n",
              "    <tr>\n",
              "      <th>11949</th>\n",
              "      <td>북미</td>\n",
              "      <td>생활·자동차용품</td>\n",
              "      <td>2023.1/4 p)</td>\n",
              "      <td>NaN</td>\n",
              "      <td>2023</td>\n",
              "      <td>1</td>\n",
              "    </tr>\n",
              "    <tr>\n",
              "      <th>11950</th>\n",
              "      <td>북미</td>\n",
              "      <td>기 타</td>\n",
              "      <td>2023.1/4 p)</td>\n",
              "      <td>NaN</td>\n",
              "      <td>2023</td>\n",
              "      <td>1</td>\n",
              "    </tr>\n",
              "  </tbody>\n",
              "</table>\n",
              "<p>11951 rows × 6 columns</p>\n",
              "</div>\n",
              "      <button class=\"colab-df-convert\" onclick=\"convertToInteractive('df-3752a66b-02f0-4caf-91c0-78da06e53d2b')\"\n",
              "              title=\"Convert this dataframe to an interactive table.\"\n",
              "              style=\"display:none;\">\n",
              "        \n",
              "  <svg xmlns=\"http://www.w3.org/2000/svg\" height=\"24px\"viewBox=\"0 0 24 24\"\n",
              "       width=\"24px\">\n",
              "    <path d=\"M0 0h24v24H0V0z\" fill=\"none\"/>\n",
              "    <path d=\"M18.56 5.44l.94 2.06.94-2.06 2.06-.94-2.06-.94-.94-2.06-.94 2.06-2.06.94zm-11 1L8.5 8.5l.94-2.06 2.06-.94-2.06-.94L8.5 2.5l-.94 2.06-2.06.94zm10 10l.94 2.06.94-2.06 2.06-.94-2.06-.94-.94-2.06-.94 2.06-2.06.94z\"/><path d=\"M17.41 7.96l-1.37-1.37c-.4-.4-.92-.59-1.43-.59-.52 0-1.04.2-1.43.59L10.3 9.45l-7.72 7.72c-.78.78-.78 2.05 0 2.83L4 21.41c.39.39.9.59 1.41.59.51 0 1.02-.2 1.41-.59l7.78-7.78 2.81-2.81c.8-.78.8-2.07 0-2.86zM5.41 20L4 18.59l7.72-7.72 1.47 1.35L5.41 20z\"/>\n",
              "  </svg>\n",
              "      </button>\n",
              "      \n",
              "  <style>\n",
              "    .colab-df-container {\n",
              "      display:flex;\n",
              "      flex-wrap:wrap;\n",
              "      gap: 12px;\n",
              "    }\n",
              "\n",
              "    .colab-df-convert {\n",
              "      background-color: #E8F0FE;\n",
              "      border: none;\n",
              "      border-radius: 50%;\n",
              "      cursor: pointer;\n",
              "      display: none;\n",
              "      fill: #1967D2;\n",
              "      height: 32px;\n",
              "      padding: 0 0 0 0;\n",
              "      width: 32px;\n",
              "    }\n",
              "\n",
              "    .colab-df-convert:hover {\n",
              "      background-color: #E2EBFA;\n",
              "      box-shadow: 0px 1px 2px rgba(60, 64, 67, 0.3), 0px 1px 3px 1px rgba(60, 64, 67, 0.15);\n",
              "      fill: #174EA6;\n",
              "    }\n",
              "\n",
              "    [theme=dark] .colab-df-convert {\n",
              "      background-color: #3B4455;\n",
              "      fill: #D2E3FC;\n",
              "    }\n",
              "\n",
              "    [theme=dark] .colab-df-convert:hover {\n",
              "      background-color: #434B5C;\n",
              "      box-shadow: 0px 1px 3px 1px rgba(0, 0, 0, 0.15);\n",
              "      filter: drop-shadow(0px 1px 2px rgba(0, 0, 0, 0.3));\n",
              "      fill: #FFFFFF;\n",
              "    }\n",
              "  </style>\n",
              "\n",
              "      <script>\n",
              "        const buttonEl =\n",
              "          document.querySelector('#df-3752a66b-02f0-4caf-91c0-78da06e53d2b button.colab-df-convert');\n",
              "        buttonEl.style.display =\n",
              "          google.colab.kernel.accessAllowed ? 'block' : 'none';\n",
              "\n",
              "        async function convertToInteractive(key) {\n",
              "          const element = document.querySelector('#df-3752a66b-02f0-4caf-91c0-78da06e53d2b');\n",
              "          const dataTable =\n",
              "            await google.colab.kernel.invokeFunction('convertToInteractive',\n",
              "                                                     [key], {});\n",
              "          if (!dataTable) return;\n",
              "\n",
              "          const docLinkHtml = 'Like what you see? Visit the ' +\n",
              "            '<a target=\"_blank\" href=https://colab.research.google.com/notebooks/data_table.ipynb>data table notebook</a>'\n",
              "            + ' to learn more about interactive tables.';\n",
              "          element.innerHTML = '';\n",
              "          dataTable['output_type'] = 'display_data';\n",
              "          await google.colab.output.renderOutput(dataTable, element);\n",
              "          const docLink = document.createElement('div');\n",
              "          docLink.innerHTML = docLinkHtml;\n",
              "          element.appendChild(docLink);\n",
              "        }\n",
              "      </script>\n",
              "    </div>\n",
              "  </div>\n",
              "  "
            ]
          },
          "metadata": {},
          "execution_count": 53
        }
      ],
      "source": [
        "df"
      ]
    },
    {
      "cell_type": "markdown",
      "metadata": {
        "id": "JZDpyV8ZpkUE"
      },
      "source": [
        "### 필요없는 데이터 제거하기"
      ]
    },
    {
      "cell_type": "code",
      "execution_count": 60,
      "metadata": {
        "id": "Tnpqs1BRpkUF",
        "colab": {
          "base_uri": "https://localhost:8080/"
        },
        "outputId": "17db723d-41ee-4f83-8dbc-ec8333e5e03d"
      },
      "outputs": [
        {
          "output_type": "stream",
          "name": "stdout",
          "text": [
            "<class 'pandas.core.frame.DataFrame'>\n",
            "Int64Index: 11248 entries, 1 to 11950\n",
            "Data columns (total 6 columns):\n",
            " #   Column   Non-Null Count  Dtype  \n",
            "---  ------   --------------  -----  \n",
            " 0   지역별(1)   11248 non-null  object \n",
            " 1   상품군별(1)  11248 non-null  object \n",
            " 2   기간       11248 non-null  object \n",
            " 3   백만원      5027 non-null   float64\n",
            " 4   연도       11248 non-null  int64  \n",
            " 5   분기       11248 non-null  int64  \n",
            "dtypes: float64(1), int64(2), object(3)\n",
            "memory usage: 615.1+ KB\n"
          ]
        }
      ],
      "source": [
        "# 합계 데이터는 따로 구할 수 있기 때문에 전체 데이터에서 제거합니다.\n",
        "df = df[(df[\"지역별(1)\"] != \"합계\") & (df[\"상품군별(1)\"] != \"합계\")].copy()\n",
        "# df[\"판매유형별\"] != \"계\"\n",
        "df.info()"
      ]
    },
    {
      "cell_type": "code",
      "execution_count": 64,
      "metadata": {
        "scrolled": true,
        "id": "6qzQ1GefpkUF",
        "colab": {
          "base_uri": "https://localhost:8080/"
        },
        "outputId": "1d19af9c-7f32-40e8-a856-cf9a357f8ebc"
      },
      "outputs": [
        {
          "output_type": "execute_result",
          "data": {
            "text/plain": [
              "지역별(1)        0\n",
              "상품군별(1)       0\n",
              "기간            0\n",
              "백만원        6221\n",
              "연도            0\n",
              "분기            0\n",
              "dtype: int64"
            ]
          },
          "metadata": {},
          "execution_count": 64
        }
      ],
      "source": [
        "df.isnull().sum()\n",
        "# 금액이 없는 데이터도 있다! "
      ]
    },
    {
      "cell_type": "markdown",
      "metadata": {
        "id": "efTTHPa-pkUG"
      },
      "source": [
        "## K-Beauty 시각화\n",
        "### 전체 상품군 판매액"
      ]
    },
    {
      "cell_type": "code",
      "execution_count": null,
      "metadata": {
        "id": "qnr-KY5mpkUI"
      },
      "outputs": [],
      "source": [
        "plt.figure(figsize=(15, 4))\n"
      ]
    },
    {
      "cell_type": "code",
      "execution_count": null,
      "metadata": {
        "id": "6WH9_JZ2pkUJ"
      },
      "outputs": [],
      "source": []
    },
    {
      "cell_type": "code",
      "execution_count": null,
      "metadata": {
        "id": "ZZKVrNIzpkUJ"
      },
      "outputs": [],
      "source": [
        "# df_sub"
      ]
    },
    {
      "cell_type": "code",
      "execution_count": null,
      "metadata": {
        "id": "Su04xaJ3pkUJ"
      },
      "outputs": [],
      "source": [
        "# sns.relplot\n"
      ]
    },
    {
      "cell_type": "markdown",
      "metadata": {
        "id": "_nZBebVqpkUK"
      },
      "source": [
        "### 화장품의 온라인쇼핑 해외직접판매액"
      ]
    },
    {
      "cell_type": "code",
      "execution_count": null,
      "metadata": {
        "scrolled": true,
        "id": "Fhn-7GFMpkUK"
      },
      "outputs": [],
      "source": [
        "# df_cosmetic"
      ]
    },
    {
      "cell_type": "code",
      "execution_count": null,
      "metadata": {
        "id": "m_-By1hopkUK"
      },
      "outputs": [],
      "source": []
    },
    {
      "cell_type": "code",
      "execution_count": null,
      "metadata": {
        "id": "RRCBZFbxpkUL"
      },
      "outputs": [],
      "source": []
    },
    {
      "cell_type": "code",
      "execution_count": null,
      "metadata": {
        "id": "x-RYg-6ypkUL"
      },
      "outputs": [],
      "source": []
    },
    {
      "cell_type": "markdown",
      "metadata": {
        "id": "VMLpPtWrpkUL"
      },
      "source": [
        "### 의류 및 패션관련 상품 온라인쇼핑 해외직접판매액"
      ]
    },
    {
      "cell_type": "code",
      "execution_count": null,
      "metadata": {
        "id": "0D9YCl-apkUL"
      },
      "outputs": [],
      "source": [
        "# df_fashion "
      ]
    },
    {
      "cell_type": "code",
      "execution_count": null,
      "metadata": {
        "id": "ux2LaiIgpkUL"
      },
      "outputs": [],
      "source": []
    },
    {
      "cell_type": "markdown",
      "metadata": {
        "id": "pV3Q3imOpkUL"
      },
      "source": [
        "### 데이터 집계하기"
      ]
    },
    {
      "cell_type": "code",
      "execution_count": null,
      "metadata": {
        "id": "iXggEjenpkUM"
      },
      "outputs": [],
      "source": []
    },
    {
      "cell_type": "markdown",
      "metadata": {
        "id": "eX6qgF3hpkUM"
      },
      "source": [
        "### 연산결과를 시각적으로 보기"
      ]
    },
    {
      "cell_type": "code",
      "execution_count": null,
      "metadata": {
        "id": "-MNEUAJlpkUM"
      },
      "outputs": [],
      "source": []
    },
    {
      "cell_type": "markdown",
      "metadata": {
        "id": "u9JbvpkKpkUM"
      },
      "source": [
        "## 전체 상품군별로 온라인쇼핑 해외직접판매액은 증가했을까?"
      ]
    },
    {
      "cell_type": "code",
      "execution_count": null,
      "metadata": {
        "scrolled": false,
        "id": "aEvZ49pUpkUN"
      },
      "outputs": [],
      "source": []
    },
    {
      "cell_type": "code",
      "execution_count": null,
      "metadata": {
        "id": "IBL7wA7WpkUN"
      },
      "outputs": [],
      "source": [
        "plt.figure(figsize=(15, 4))\n"
      ]
    },
    {
      "cell_type": "markdown",
      "metadata": {
        "id": "AL3tPFBYpkUN"
      },
      "source": [
        "* lengend를 그래프의 밖에 그리기 : [matplotlib - Move legend outside figure in seaborn tsplot - Stack Overflow](https://stackoverflow.com/questions/30490740/move-legend-outside-figure-in-seaborn-tsplot)"
      ]
    },
    {
      "cell_type": "code",
      "execution_count": null,
      "metadata": {
        "scrolled": true,
        "id": "2kOuw-6epkUO"
      },
      "outputs": [],
      "source": [
        "plt.figure(figsize=(15, 4))\n"
      ]
    },
    {
      "cell_type": "code",
      "execution_count": null,
      "metadata": {
        "id": "5Nd1tM9ppkUO"
      },
      "outputs": [],
      "source": []
    },
    {
      "cell_type": "code",
      "execution_count": null,
      "metadata": {
        "id": "pQF3Uy2LpkUO"
      },
      "outputs": [],
      "source": []
    },
    {
      "cell_type": "code",
      "execution_count": null,
      "metadata": {
        "id": "wfLIui3DpkUO"
      },
      "outputs": [],
      "source": []
    },
    {
      "cell_type": "code",
      "execution_count": null,
      "metadata": {
        "id": "gVkYUUS8pkUO"
      },
      "outputs": [],
      "source": []
    }
  ],
  "metadata": {
    "kernelspec": {
      "display_name": "Python 3 (ipykernel)",
      "language": "python",
      "name": "python3"
    },
    "language_info": {
      "codemirror_mode": {
        "name": "ipython",
        "version": 3
      },
      "file_extension": ".py",
      "mimetype": "text/x-python",
      "name": "python",
      "nbconvert_exporter": "python",
      "pygments_lexer": "ipython3",
      "version": "3.7.13"
    },
    "toc": {
      "base_numbering": 1,
      "nav_menu": {},
      "number_sections": true,
      "sideBar": true,
      "skip_h1_title": false,
      "title_cell": "Table of Contents",
      "title_sidebar": "Contents",
      "toc_cell": false,
      "toc_position": {
        "height": "calc(100% - 180px)",
        "left": "10px",
        "top": "150px",
        "width": "170.667px"
      },
      "toc_section_display": true,
      "toc_window_display": true
    },
    "varInspector": {
      "cols": {
        "lenName": 16,
        "lenType": 16,
        "lenVar": 40
      },
      "kernels_config": {
        "python": {
          "delete_cmd_postfix": "",
          "delete_cmd_prefix": "del ",
          "library": "var_list.py",
          "varRefreshCmd": "print(var_dic_list())"
        },
        "r": {
          "delete_cmd_postfix": ") ",
          "delete_cmd_prefix": "rm(",
          "library": "var_list.r",
          "varRefreshCmd": "cat(var_dic_list()) "
        }
      },
      "types_to_exclude": [
        "module",
        "function",
        "builtin_function_or_method",
        "instance",
        "_Feature"
      ],
      "window_display": false
    },
    "colab": {
      "provenance": [],
      "include_colab_link": true
    }
  },
  "nbformat": 4,
  "nbformat_minor": 0
}